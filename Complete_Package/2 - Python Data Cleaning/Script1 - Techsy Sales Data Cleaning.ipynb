{
 "cells": [
  {
   "cell_type": "code",
   "execution_count": 161,
   "id": "01f5fc23",
   "metadata": {},
   "outputs": [],
   "source": [
    "import pandas as pd"
   ]
  },
  {
   "cell_type": "code",
   "execution_count": 162,
   "id": "652f4847",
   "metadata": {},
   "outputs": [],
   "source": [
    "# import all 12 csv files into dataframes. One for each month\n",
    "\n",
    "jan_2019 = pd.read_csv(\"Sales_January_2019_formatted.csv\", parse_dates = [\"Order Date\"]).dropna(how = \"all\")\n",
    "feb_2019 = pd.read_csv(\"Sales_February_2019_formatted.csv\", parse_dates = [\"Order Date\"]).dropna(how = \"all\")\n",
    "mar_2019 = pd.read_csv(\"Sales_March_2019_formatted.csv\", parse_dates = [\"Order Date\"]).dropna(how = \"all\")\n",
    "apr_2019 = pd.read_csv(\"Sales_April_2019_formatted.csv\", parse_dates = [\"Order Date\"]).dropna(how = \"all\")\n",
    "may_2019 = pd.read_csv(\"Sales_May_2019_formatted.csv\", parse_dates = [\"Order Date\"]).dropna(how = \"all\")\n",
    "jun_2019 = pd.read_csv(\"Sales_June_2019_formatted.csv\", parse_dates = [\"Order Date\"]).dropna(how = \"all\")\n",
    "jul_2019 = pd.read_csv(\"Sales_July_2019_formatted.csv\", parse_dates = [\"Order Date\"]).dropna(how = \"all\")\n",
    "aug_2019 = pd.read_csv(\"Sales_August_2019_formatted.csv\", parse_dates = [\"Order Date\"]).dropna(how = \"all\")\n",
    "sep_2019 = pd.read_csv(\"Sales_September_2019_formatted.csv\", parse_dates = [\"Order Date\"]).dropna(how = \"all\")\n",
    "oct_2019 = pd.read_csv(\"Sales_October_2019_formatted.csv\", parse_dates = [\"Order Date\"]).dropna(how = \"all\")\n",
    "nov_2019 = pd.read_csv(\"Sales_November_2019_formatted.csv\", parse_dates = [\"Order Date\"]).dropna(how = \"all\")\n",
    "dec_2019 = pd.read_csv(\"Sales_December_2019_formatted.csv\", parse_dates = [\"Order Date\"]).dropna(how = \"all\")"
   ]
  },
  {
   "cell_type": "code",
   "execution_count": 163,
   "id": "1fd2b2d6",
   "metadata": {},
   "outputs": [
    {
     "data": {
      "text/html": [
       "<div>\n",
       "<style scoped>\n",
       "    .dataframe tbody tr th:only-of-type {\n",
       "        vertical-align: middle;\n",
       "    }\n",
       "\n",
       "    .dataframe tbody tr th {\n",
       "        vertical-align: top;\n",
       "    }\n",
       "\n",
       "    .dataframe thead th {\n",
       "        text-align: right;\n",
       "    }\n",
       "</style>\n",
       "<table border=\"1\" class=\"dataframe\">\n",
       "  <thead>\n",
       "    <tr style=\"text-align: right;\">\n",
       "      <th></th>\n",
       "      <th>Order ID</th>\n",
       "      <th>Product</th>\n",
       "      <th>Quantity Ordered</th>\n",
       "      <th>Price Each</th>\n",
       "      <th>Order Date</th>\n",
       "      <th>Purchase Address</th>\n",
       "    </tr>\n",
       "  </thead>\n",
       "  <tbody>\n",
       "    <tr>\n",
       "      <th>0</th>\n",
       "      <td>141234.0</td>\n",
       "      <td>iPhone</td>\n",
       "      <td>1.0</td>\n",
       "      <td>700.00</td>\n",
       "      <td>2019-01-22 21:25:00</td>\n",
       "      <td>944 Walnut St, Boston, MA 02215</td>\n",
       "    </tr>\n",
       "    <tr>\n",
       "      <th>1</th>\n",
       "      <td>141235.0</td>\n",
       "      <td>Lightning Charging Cable</td>\n",
       "      <td>1.0</td>\n",
       "      <td>14.95</td>\n",
       "      <td>2019-01-28 14:15:00</td>\n",
       "      <td>185 Maple St, Portland, OR 97035</td>\n",
       "    </tr>\n",
       "    <tr>\n",
       "      <th>2</th>\n",
       "      <td>141236.0</td>\n",
       "      <td>Wired Headphones</td>\n",
       "      <td>2.0</td>\n",
       "      <td>11.99</td>\n",
       "      <td>2019-01-17 13:33:00</td>\n",
       "      <td>538 Adams St, San Francisco, CA 94016</td>\n",
       "    </tr>\n",
       "    <tr>\n",
       "      <th>3</th>\n",
       "      <td>141237.0</td>\n",
       "      <td>27in FHD Monitor</td>\n",
       "      <td>1.0</td>\n",
       "      <td>149.99</td>\n",
       "      <td>2019-01-05 20:33:00</td>\n",
       "      <td>738 10th St, Los Angeles, CA 90001</td>\n",
       "    </tr>\n",
       "    <tr>\n",
       "      <th>4</th>\n",
       "      <td>141238.0</td>\n",
       "      <td>Wired Headphones</td>\n",
       "      <td>1.0</td>\n",
       "      <td>11.99</td>\n",
       "      <td>2019-01-25 11:59:00</td>\n",
       "      <td>387 10th St, Austin, TX 73301</td>\n",
       "    </tr>\n",
       "  </tbody>\n",
       "</table>\n",
       "</div>"
      ],
      "text/plain": [
       "   Order ID                   Product  Quantity Ordered  Price Each  \\\n",
       "0  141234.0                    iPhone               1.0      700.00   \n",
       "1  141235.0  Lightning Charging Cable               1.0       14.95   \n",
       "2  141236.0          Wired Headphones               2.0       11.99   \n",
       "3  141237.0          27in FHD Monitor               1.0      149.99   \n",
       "4  141238.0          Wired Headphones               1.0       11.99   \n",
       "\n",
       "           Order Date                       Purchase Address  \n",
       "0 2019-01-22 21:25:00        944 Walnut St, Boston, MA 02215  \n",
       "1 2019-01-28 14:15:00       185 Maple St, Portland, OR 97035  \n",
       "2 2019-01-17 13:33:00  538 Adams St, San Francisco, CA 94016  \n",
       "3 2019-01-05 20:33:00     738 10th St, Los Angeles, CA 90001  \n",
       "4 2019-01-25 11:59:00          387 10th St, Austin, TX 73301  "
      ]
     },
     "execution_count": 163,
     "metadata": {},
     "output_type": "execute_result"
    }
   ],
   "source": [
    "# check first 5 rows\n",
    "\n",
    "jan_2019.head()"
   ]
  },
  {
   "cell_type": "code",
   "execution_count": 164,
   "id": "0b4d240e",
   "metadata": {
    "scrolled": true
   },
   "outputs": [
    {
     "name": "stdout",
     "output_type": "stream",
     "text": [
      "<class 'pandas.core.frame.DataFrame'>\n",
      "Int64Index: 9681 entries, 0 to 9706\n",
      "Data columns (total 6 columns):\n",
      " #   Column            Non-Null Count  Dtype         \n",
      "---  ------            --------------  -----         \n",
      " 0   Order ID          9681 non-null   float64       \n",
      " 1   Product           9681 non-null   object        \n",
      " 2   Quantity Ordered  9681 non-null   float64       \n",
      " 3   Price Each        9681 non-null   float64       \n",
      " 4   Order Date        9681 non-null   datetime64[ns]\n",
      " 5   Purchase Address  9681 non-null   object        \n",
      "dtypes: datetime64[ns](1), float64(3), object(2)\n",
      "memory usage: 529.4+ KB\n"
     ]
    }
   ],
   "source": [
    "# get info on our datasets and trim columns\n",
    "\n",
    "# january trim\n",
    "jan_2019.info()\n",
    "jan_2019[\"Product\"] = jan_2019[\"Product\"].str.strip()\n",
    "jan_2019[\"Purchase Address\"] = jan_2019[\"Purchase Address\"].str.strip()"
   ]
  },
  {
   "cell_type": "code",
   "execution_count": 165,
   "id": "9f11066e",
   "metadata": {},
   "outputs": [],
   "source": [
    "# february trim\n",
    "feb_2019[\"Product\"] = feb_2019[\"Product\"].str.strip()\n",
    "feb_2019[\"Purchase Address\"] = feb_2019[\"Purchase Address\"].str.strip()"
   ]
  },
  {
   "cell_type": "code",
   "execution_count": 166,
   "id": "c9e0de21",
   "metadata": {},
   "outputs": [],
   "source": [
    "# march trim\n",
    "mar_2019[\"Product\"] = mar_2019[\"Product\"].str.strip()\n",
    "mar_2019[\"Purchase Address\"] = mar_2019[\"Purchase Address\"].str.strip()"
   ]
  },
  {
   "cell_type": "code",
   "execution_count": 167,
   "id": "d9cb609f",
   "metadata": {},
   "outputs": [],
   "source": [
    "# april trim\n",
    "apr_2019[\"Product\"] = apr_2019[\"Product\"].str.strip()\n",
    "apr_2019[\"Purchase Address\"] = apr_2019[\"Purchase Address\"].str.strip()"
   ]
  },
  {
   "cell_type": "code",
   "execution_count": 168,
   "id": "2dcd4248",
   "metadata": {},
   "outputs": [],
   "source": [
    "# may trim\n",
    "may_2019[\"Product\"] = may_2019[\"Product\"].str.strip()\n",
    "may_2019[\"Purchase Address\"] = may_2019[\"Purchase Address\"].str.strip()"
   ]
  },
  {
   "cell_type": "code",
   "execution_count": 169,
   "id": "d78587e5",
   "metadata": {},
   "outputs": [],
   "source": [
    "# june trim\n",
    "jun_2019[\"Product\"] = jun_2019[\"Product\"].str.strip()\n",
    "jun_2019[\"Purchase Address\"] = jun_2019[\"Purchase Address\"].str.strip()"
   ]
  },
  {
   "cell_type": "code",
   "execution_count": 170,
   "id": "51b3ce94",
   "metadata": {},
   "outputs": [],
   "source": [
    "# july trim\n",
    "jul_2019[\"Product\"] = jul_2019[\"Product\"].str.strip()\n",
    "jul_2019[\"Purchase Address\"] = jul_2019[\"Purchase Address\"].str.strip()"
   ]
  },
  {
   "cell_type": "code",
   "execution_count": 171,
   "id": "5f34bc43",
   "metadata": {},
   "outputs": [],
   "source": [
    "# august trim\n",
    "aug_2019[\"Product\"] = aug_2019[\"Product\"].str.strip()\n",
    "aug_2019[\"Purchase Address\"] = aug_2019[\"Purchase Address\"].str.strip()"
   ]
  },
  {
   "cell_type": "code",
   "execution_count": 172,
   "id": "72eab14c",
   "metadata": {},
   "outputs": [],
   "source": [
    "# september trim\n",
    "sep_2019[\"Product\"] = sep_2019[\"Product\"].str.strip()\n",
    "sep_2019[\"Purchase Address\"] = sep_2019[\"Purchase Address\"].str.strip()"
   ]
  },
  {
   "cell_type": "code",
   "execution_count": 173,
   "id": "c48090c7",
   "metadata": {},
   "outputs": [],
   "source": [
    "# october trim\n",
    "oct_2019[\"Product\"] = oct_2019[\"Product\"].str.strip()\n",
    "oct_2019[\"Purchase Address\"] = oct_2019[\"Purchase Address\"].str.strip()"
   ]
  },
  {
   "cell_type": "code",
   "execution_count": 174,
   "id": "29a4e62f",
   "metadata": {},
   "outputs": [],
   "source": [
    "# november trim\n",
    "nov_2019[\"Product\"] = nov_2019[\"Product\"].str.strip()\n",
    "nov_2019[\"Purchase Address\"] = nov_2019[\"Purchase Address\"].str.strip()"
   ]
  },
  {
   "cell_type": "code",
   "execution_count": 175,
   "id": "fb62707e",
   "metadata": {},
   "outputs": [],
   "source": [
    "# december trim\n",
    "dec_2019[\"Product\"] = dec_2019[\"Product\"].str.strip()\n",
    "dec_2019[\"Purchase Address\"] = dec_2019[\"Purchase Address\"].str.strip()"
   ]
  },
  {
   "cell_type": "code",
   "execution_count": 176,
   "id": "29ae6c25",
   "metadata": {},
   "outputs": [],
   "source": [
    "# turn our products into categories to improve performance. \n",
    "# keep in mind that this cell was added after finding out there are 19\n",
    "# unique products across all tables\n",
    "\n",
    "jan_2019[\"Product\"] = jan_2019[\"Product\"].astype(\"category\")\n",
    "feb_2019[\"Product\"] = feb_2019[\"Product\"].astype(\"category\")\n",
    "mar_2019[\"Product\"] = mar_2019[\"Product\"].astype(\"category\")\n",
    "apr_2019[\"Product\"] = apr_2019[\"Product\"].astype(\"category\")\n",
    "may_2019[\"Product\"] = may_2019[\"Product\"].astype(\"category\")\n",
    "jun_2019[\"Product\"] = jun_2019[\"Product\"].astype(\"category\")\n",
    "jul_2019[\"Product\"] = jul_2019[\"Product\"].astype(\"category\")\n",
    "aug_2019[\"Product\"] = aug_2019[\"Product\"].astype(\"category\")\n",
    "sep_2019[\"Product\"] = sep_2019[\"Product\"].astype(\"category\")\n",
    "oct_2019[\"Product\"] = oct_2019[\"Product\"].astype(\"category\")\n",
    "nov_2019[\"Product\"] = nov_2019[\"Product\"].astype(\"category\")\n",
    "dec_2019[\"Product\"] = dec_2019[\"Product\"].astype(\"category\")"
   ]
  },
  {
   "cell_type": "code",
   "execution_count": 177,
   "id": "241b7ea2",
   "metadata": {
    "collapsed": true
   },
   "outputs": [
    {
     "data": {
      "text/html": [
       "<div>\n",
       "<style scoped>\n",
       "    .dataframe tbody tr th:only-of-type {\n",
       "        vertical-align: middle;\n",
       "    }\n",
       "\n",
       "    .dataframe tbody tr th {\n",
       "        vertical-align: top;\n",
       "    }\n",
       "\n",
       "    .dataframe thead th {\n",
       "        text-align: right;\n",
       "    }\n",
       "</style>\n",
       "<table border=\"1\" class=\"dataframe\">\n",
       "  <thead>\n",
       "    <tr style=\"text-align: right;\">\n",
       "      <th></th>\n",
       "      <th>Order ID</th>\n",
       "      <th>Product</th>\n",
       "      <th>Quantity Ordered</th>\n",
       "      <th>Price Each</th>\n",
       "      <th>Order Date</th>\n",
       "      <th>Purchase Address</th>\n",
       "    </tr>\n",
       "  </thead>\n",
       "  <tbody>\n",
       "    <tr>\n",
       "      <th>0</th>\n",
       "      <td>141234.0</td>\n",
       "      <td>iPhone</td>\n",
       "      <td>1.0</td>\n",
       "      <td>700.00</td>\n",
       "      <td>2019-01-22 21:25:00</td>\n",
       "      <td>944 Walnut St, Boston, MA 02215</td>\n",
       "    </tr>\n",
       "    <tr>\n",
       "      <th>1</th>\n",
       "      <td>141235.0</td>\n",
       "      <td>Lightning Charging Cable</td>\n",
       "      <td>1.0</td>\n",
       "      <td>14.95</td>\n",
       "      <td>2019-01-28 14:15:00</td>\n",
       "      <td>185 Maple St, Portland, OR 97035</td>\n",
       "    </tr>\n",
       "    <tr>\n",
       "      <th>2</th>\n",
       "      <td>141236.0</td>\n",
       "      <td>Wired Headphones</td>\n",
       "      <td>2.0</td>\n",
       "      <td>11.99</td>\n",
       "      <td>2019-01-17 13:33:00</td>\n",
       "      <td>538 Adams St, San Francisco, CA 94016</td>\n",
       "    </tr>\n",
       "    <tr>\n",
       "      <th>3</th>\n",
       "      <td>141237.0</td>\n",
       "      <td>27in FHD Monitor</td>\n",
       "      <td>1.0</td>\n",
       "      <td>149.99</td>\n",
       "      <td>2019-01-05 20:33:00</td>\n",
       "      <td>738 10th St, Los Angeles, CA 90001</td>\n",
       "    </tr>\n",
       "    <tr>\n",
       "      <th>4</th>\n",
       "      <td>141238.0</td>\n",
       "      <td>Wired Headphones</td>\n",
       "      <td>1.0</td>\n",
       "      <td>11.99</td>\n",
       "      <td>2019-01-25 11:59:00</td>\n",
       "      <td>387 10th St, Austin, TX 73301</td>\n",
       "    </tr>\n",
       "  </tbody>\n",
       "</table>\n",
       "</div>"
      ],
      "text/plain": [
       "   Order ID                   Product  Quantity Ordered  Price Each  \\\n",
       "0  141234.0                    iPhone               1.0      700.00   \n",
       "1  141235.0  Lightning Charging Cable               1.0       14.95   \n",
       "2  141236.0          Wired Headphones               2.0       11.99   \n",
       "3  141237.0          27in FHD Monitor               1.0      149.99   \n",
       "4  141238.0          Wired Headphones               1.0       11.99   \n",
       "\n",
       "           Order Date                       Purchase Address  \n",
       "0 2019-01-22 21:25:00        944 Walnut St, Boston, MA 02215  \n",
       "1 2019-01-28 14:15:00       185 Maple St, Portland, OR 97035  \n",
       "2 2019-01-17 13:33:00  538 Adams St, San Francisco, CA 94016  \n",
       "3 2019-01-05 20:33:00     738 10th St, Los Angeles, CA 90001  \n",
       "4 2019-01-25 11:59:00          387 10th St, Austin, TX 73301  "
      ]
     },
     "execution_count": 177,
     "metadata": {},
     "output_type": "execute_result"
    }
   ],
   "source": [
    "# take a look at our distinct product values in all tables\n",
    "# first, let's concatenate our dataframes into one large one\n",
    "\n",
    "df_2019 = pd.concat(objs = [jan_2019, feb_2019, mar_2019, apr_2019, may_2019, jun_2019, jul_2019, aug_2019, sep_2019, oct_2019, nov_2019, dec_2019])\n",
    "df_2019.head()"
   ]
  },
  {
   "cell_type": "code",
   "execution_count": 178,
   "id": "0232c22d",
   "metadata": {
    "collapsed": true
   },
   "outputs": [
    {
     "data": {
      "text/plain": [
       "['iPhone', 'Lightning Charging Cable', 'Wired Headphones', '27in FHD Monitor', 'AAA Batteries (4-pack)', ..., '20in Monitor', '34in Ultrawide Monitor', 'ThinkPad Laptop', 'LG Dryer', 'LG Washing Machine']\n",
       "Length: 19\n",
       "Categories (19, object): ['20in Monitor', '27in 4K Gaming Monitor', '27in FHD Monitor', '34in Ultrawide Monitor', ..., 'USB-C Charging Cable', 'Vareebadd Phone', 'Wired Headphones', 'iPhone']"
      ]
     },
     "execution_count": 178,
     "metadata": {},
     "output_type": "execute_result"
    }
   ],
   "source": [
    "# let's check our unique values across all products\n",
    "\n",
    "df_2019[\"Product\"].unique()\n",
    "# 19 total products"
   ]
  },
  {
   "cell_type": "code",
   "execution_count": 179,
   "id": "1258c5f4",
   "metadata": {
    "collapsed": true
   },
   "outputs": [
    {
     "data": {
      "text/html": [
       "<div>\n",
       "<style scoped>\n",
       "    .dataframe tbody tr th:only-of-type {\n",
       "        vertical-align: middle;\n",
       "    }\n",
       "\n",
       "    .dataframe tbody tr th {\n",
       "        vertical-align: top;\n",
       "    }\n",
       "\n",
       "    .dataframe thead th {\n",
       "        text-align: right;\n",
       "    }\n",
       "</style>\n",
       "<table border=\"1\" class=\"dataframe\">\n",
       "  <thead>\n",
       "    <tr style=\"text-align: right;\">\n",
       "      <th></th>\n",
       "      <th>Product</th>\n",
       "    </tr>\n",
       "  </thead>\n",
       "  <tbody>\n",
       "    <tr>\n",
       "      <th>0</th>\n",
       "      <td>iPhone</td>\n",
       "    </tr>\n",
       "    <tr>\n",
       "      <th>1</th>\n",
       "      <td>Lightning Charging Cable</td>\n",
       "    </tr>\n",
       "    <tr>\n",
       "      <th>2</th>\n",
       "      <td>Wired Headphones</td>\n",
       "    </tr>\n",
       "    <tr>\n",
       "      <th>3</th>\n",
       "      <td>27in FHD Monitor</td>\n",
       "    </tr>\n",
       "    <tr>\n",
       "      <th>4</th>\n",
       "      <td>AAA Batteries (4-pack)</td>\n",
       "    </tr>\n",
       "  </tbody>\n",
       "</table>\n",
       "</div>"
      ],
      "text/plain": [
       "                    Product\n",
       "0                    iPhone\n",
       "1  Lightning Charging Cable\n",
       "2          Wired Headphones\n",
       "3          27in FHD Monitor\n",
       "4    AAA Batteries (4-pack)"
      ]
     },
     "execution_count": 179,
     "metadata": {},
     "output_type": "execute_result"
    }
   ],
   "source": [
    "# create products dataframe\n",
    "\n",
    "products = pd.DataFrame(df_2019[\"Product\"].unique(), columns = ['Product'])\n",
    "products.head()"
   ]
  },
  {
   "cell_type": "code",
   "execution_count": 180,
   "id": "80fa57c9",
   "metadata": {
    "collapsed": true
   },
   "outputs": [
    {
     "data": {
      "text/html": [
       "<div>\n",
       "<style scoped>\n",
       "    .dataframe tbody tr th:only-of-type {\n",
       "        vertical-align: middle;\n",
       "    }\n",
       "\n",
       "    .dataframe tbody tr th {\n",
       "        vertical-align: top;\n",
       "    }\n",
       "\n",
       "    .dataframe thead th {\n",
       "        text-align: right;\n",
       "    }\n",
       "</style>\n",
       "<table border=\"1\" class=\"dataframe\">\n",
       "  <thead>\n",
       "    <tr style=\"text-align: right;\">\n",
       "      <th></th>\n",
       "      <th>Product</th>\n",
       "      <th>Price Each</th>\n",
       "    </tr>\n",
       "  </thead>\n",
       "  <tbody>\n",
       "    <tr>\n",
       "      <th>0</th>\n",
       "      <td>iPhone</td>\n",
       "      <td>700.00</td>\n",
       "    </tr>\n",
       "    <tr>\n",
       "      <th>1</th>\n",
       "      <td>Lightning Charging Cable</td>\n",
       "      <td>14.95</td>\n",
       "    </tr>\n",
       "    <tr>\n",
       "      <th>2</th>\n",
       "      <td>Wired Headphones</td>\n",
       "      <td>11.99</td>\n",
       "    </tr>\n",
       "    <tr>\n",
       "      <th>3</th>\n",
       "      <td>27in FHD Monitor</td>\n",
       "      <td>149.99</td>\n",
       "    </tr>\n",
       "    <tr>\n",
       "      <th>4</th>\n",
       "      <td>AAA Batteries (4-pack)</td>\n",
       "      <td>2.99</td>\n",
       "    </tr>\n",
       "  </tbody>\n",
       "</table>\n",
       "</div>"
      ],
      "text/plain": [
       "                    Product  Price Each\n",
       "0                    iPhone      700.00\n",
       "1  Lightning Charging Cable       14.95\n",
       "2          Wired Headphones       11.99\n",
       "3          27in FHD Monitor      149.99\n",
       "4    AAA Batteries (4-pack)        2.99"
      ]
     },
     "execution_count": 180,
     "metadata": {},
     "output_type": "execute_result"
    }
   ],
   "source": [
    "# merge prices\n",
    "\n",
    "products = products.merge(df_2019, on=['Product'], how='left').drop_duplicates(subset = [\"Product\"], ignore_index = True)\n",
    "products = products.drop([\"Order ID\", \"Quantity Ordered\", \"Order Date\", \"Purchase Address\"], axis = 1)\n",
    "products.head()"
   ]
  },
  {
   "cell_type": "code",
   "execution_count": 181,
   "id": "f1f165c9",
   "metadata": {},
   "outputs": [
    {
     "data": {
      "text/html": [
       "<div>\n",
       "<style scoped>\n",
       "    .dataframe tbody tr th:only-of-type {\n",
       "        vertical-align: middle;\n",
       "    }\n",
       "\n",
       "    .dataframe tbody tr th {\n",
       "        vertical-align: top;\n",
       "    }\n",
       "\n",
       "    .dataframe thead th {\n",
       "        text-align: right;\n",
       "    }\n",
       "</style>\n",
       "<table border=\"1\" class=\"dataframe\">\n",
       "  <thead>\n",
       "    <tr style=\"text-align: right;\">\n",
       "      <th></th>\n",
       "      <th>Product</th>\n",
       "      <th>Price Each</th>\n",
       "      <th>Product_Key</th>\n",
       "    </tr>\n",
       "  </thead>\n",
       "  <tbody>\n",
       "    <tr>\n",
       "      <th>0</th>\n",
       "      <td>iPhone</td>\n",
       "      <td>700.00</td>\n",
       "      <td>1</td>\n",
       "    </tr>\n",
       "    <tr>\n",
       "      <th>1</th>\n",
       "      <td>Lightning Charging Cable</td>\n",
       "      <td>14.95</td>\n",
       "      <td>2</td>\n",
       "    </tr>\n",
       "    <tr>\n",
       "      <th>2</th>\n",
       "      <td>Wired Headphones</td>\n",
       "      <td>11.99</td>\n",
       "      <td>3</td>\n",
       "    </tr>\n",
       "    <tr>\n",
       "      <th>3</th>\n",
       "      <td>27in FHD Monitor</td>\n",
       "      <td>149.99</td>\n",
       "      <td>4</td>\n",
       "    </tr>\n",
       "    <tr>\n",
       "      <th>4</th>\n",
       "      <td>AAA Batteries (4-pack)</td>\n",
       "      <td>2.99</td>\n",
       "      <td>5</td>\n",
       "    </tr>\n",
       "  </tbody>\n",
       "</table>\n",
       "</div>"
      ],
      "text/plain": [
       "                    Product  Price Each  Product_Key\n",
       "0                    iPhone      700.00            1\n",
       "1  Lightning Charging Cable       14.95            2\n",
       "2          Wired Headphones       11.99            3\n",
       "3          27in FHD Monitor      149.99            4\n",
       "4    AAA Batteries (4-pack)        2.99            5"
      ]
     },
     "execution_count": 181,
     "metadata": {},
     "output_type": "execute_result"
    }
   ],
   "source": [
    "# set index for products table\n",
    "\n",
    "products[\"Product_Key\"] = products.index\n",
    "products[\"Product_Key\"] = products[\"Product_Key\"] + 1\n",
    "products.head()"
   ]
  },
  {
   "cell_type": "code",
   "execution_count": 182,
   "id": "101e086c",
   "metadata": {},
   "outputs": [
    {
     "data": {
      "text/html": [
       "<div>\n",
       "<style scoped>\n",
       "    .dataframe tbody tr th:only-of-type {\n",
       "        vertical-align: middle;\n",
       "    }\n",
       "\n",
       "    .dataframe tbody tr th {\n",
       "        vertical-align: top;\n",
       "    }\n",
       "\n",
       "    .dataframe thead th {\n",
       "        text-align: right;\n",
       "    }\n",
       "</style>\n",
       "<table border=\"1\" class=\"dataframe\">\n",
       "  <thead>\n",
       "    <tr style=\"text-align: right;\">\n",
       "      <th></th>\n",
       "      <th>Order ID</th>\n",
       "      <th>Product</th>\n",
       "      <th>Quantity Ordered</th>\n",
       "      <th>Price Each</th>\n",
       "      <th>Order Date</th>\n",
       "      <th>Purchase Address</th>\n",
       "    </tr>\n",
       "  </thead>\n",
       "  <tbody>\n",
       "    <tr>\n",
       "      <th>0</th>\n",
       "      <td>141234.0</td>\n",
       "      <td>1</td>\n",
       "      <td>1.0</td>\n",
       "      <td>700.00</td>\n",
       "      <td>2019-01-22 21:25:00</td>\n",
       "      <td>944 Walnut St, Boston, MA 02215</td>\n",
       "    </tr>\n",
       "    <tr>\n",
       "      <th>1</th>\n",
       "      <td>141235.0</td>\n",
       "      <td>2</td>\n",
       "      <td>1.0</td>\n",
       "      <td>14.95</td>\n",
       "      <td>2019-01-28 14:15:00</td>\n",
       "      <td>185 Maple St, Portland, OR 97035</td>\n",
       "    </tr>\n",
       "    <tr>\n",
       "      <th>2</th>\n",
       "      <td>141236.0</td>\n",
       "      <td>3</td>\n",
       "      <td>2.0</td>\n",
       "      <td>11.99</td>\n",
       "      <td>2019-01-17 13:33:00</td>\n",
       "      <td>538 Adams St, San Francisco, CA 94016</td>\n",
       "    </tr>\n",
       "    <tr>\n",
       "      <th>3</th>\n",
       "      <td>141237.0</td>\n",
       "      <td>4</td>\n",
       "      <td>1.0</td>\n",
       "      <td>149.99</td>\n",
       "      <td>2019-01-05 20:33:00</td>\n",
       "      <td>738 10th St, Los Angeles, CA 90001</td>\n",
       "    </tr>\n",
       "    <tr>\n",
       "      <th>4</th>\n",
       "      <td>141238.0</td>\n",
       "      <td>3</td>\n",
       "      <td>1.0</td>\n",
       "      <td>11.99</td>\n",
       "      <td>2019-01-25 11:59:00</td>\n",
       "      <td>387 10th St, Austin, TX 73301</td>\n",
       "    </tr>\n",
       "  </tbody>\n",
       "</table>\n",
       "</div>"
      ],
      "text/plain": [
       "   Order ID Product  Quantity Ordered  Price Each          Order Date  \\\n",
       "0  141234.0       1               1.0      700.00 2019-01-22 21:25:00   \n",
       "1  141235.0       2               1.0       14.95 2019-01-28 14:15:00   \n",
       "2  141236.0       3               2.0       11.99 2019-01-17 13:33:00   \n",
       "3  141237.0       4               1.0      149.99 2019-01-05 20:33:00   \n",
       "4  141238.0       3               1.0       11.99 2019-01-25 11:59:00   \n",
       "\n",
       "                        Purchase Address  \n",
       "0        944 Walnut St, Boston, MA 02215  \n",
       "1       185 Maple St, Portland, OR 97035  \n",
       "2  538 Adams St, San Francisco, CA 94016  \n",
       "3     738 10th St, Los Angeles, CA 90001  \n",
       "4          387 10th St, Austin, TX 73301  "
      ]
     },
     "execution_count": 182,
     "metadata": {},
     "output_type": "execute_result"
    }
   ],
   "source": [
    "# replace values in our year dataframe with the product key\n",
    "\n",
    "df_2019[\"Product\"] = df_2019[\"Product\"].map(products.set_index(\"Product\")[\"Product_Key\"])\n",
    "df_2019.head()"
   ]
  },
  {
   "cell_type": "code",
   "execution_count": 183,
   "id": "b7d7d565",
   "metadata": {},
   "outputs": [],
   "source": [
    "# drop our \"price each\" column from df_2019\n",
    "\n",
    "df_2019 = df_2019.drop([\"Price Each\"], axis = 1)"
   ]
  },
  {
   "cell_type": "code",
   "execution_count": 184,
   "id": "9dd4029e",
   "metadata": {},
   "outputs": [],
   "source": [
    "# write our df_2019 and product dim table to csv files\n",
    "\n",
    "df_2019.to_csv(\"Sales_2019_Cleaned\", encoding = 'utf-8-sig', index = False)\n",
    "products.to_csv(\"products\", encoding = 'utf-8-sig', index = False)"
   ]
  },
  {
   "cell_type": "code",
   "execution_count": 185,
   "id": "77bd7767",
   "metadata": {},
   "outputs": [],
   "source": [
    "# And that's it. We've cleaned our data and formatted into 2 tables. Now onto Power BI for visualization"
   ]
  }
 ],
 "metadata": {
  "kernelspec": {
   "display_name": "Python 3 (ipykernel)",
   "language": "python",
   "name": "python3"
  },
  "language_info": {
   "codemirror_mode": {
    "name": "ipython",
    "version": 3
   },
   "file_extension": ".py",
   "mimetype": "text/x-python",
   "name": "python",
   "nbconvert_exporter": "python",
   "pygments_lexer": "ipython3",
   "version": "3.9.13"
  }
 },
 "nbformat": 4,
 "nbformat_minor": 5
}
